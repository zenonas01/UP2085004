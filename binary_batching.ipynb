{
 "cells": [
  {
   "cell_type": "code",
   "execution_count": 26,
   "metadata": {},
   "outputs": [],
   "source": [
    "import pandas as pd\n",
    "import pickle\n",
    "import os\n",
    "from glob import glob\n",
    "from concurrent.futures import ThreadPoolExecutor"
   ]
  },
  {
   "cell_type": "code",
   "execution_count": 28,
   "metadata": {},
   "outputs": [],
   "source": [
    "def process_csv_file(input_csv_file, output_dir, batch_size=30):\n",
    "  labelName = input_csv_file.split('/')[-1].split('.')[0]\n",
    "  subdirectory = os.path.join(output_dir, labelName)\n",
    "  if not os.path.exists(subdirectory):\n",
    "    os.makedirs(subdirectory)\n",
    "  print(f'[WARNING] Processing {labelName} ...')\n",
    "\n",
    "  # Read the CSV file into a pandas DataFrame\n",
    "  df = pd.read_csv(input_csv_file)\n",
    "  df.set_index('timestamp', inplace=True)\n",
    "\n",
    "  # Split the DataFrame into batches of size 'batch_size'\n",
    "  batches = [df.iloc[i:i+batch_size] for i in range(0, df.shape[0], batch_size)]\n",
    "\n",
    "  for i, batch_df in enumerate(batches):\n",
    "    # Create a pickle file for each batch\n",
    "      \n",
    "    output_file = os.path.join(subdirectory, f'batch_{i}_{i*batch_size}-{(i+1)*batch_size}.pkl')\n",
    "    with open(output_file, 'wb') as f:\n",
    "      pickle.dump(batch_df, f)\n",
    "          \n",
    "  print(f'[INFO] Done processing {labelName} ...')"
   ]
  },
  {
   "cell_type": "code",
   "execution_count": 29,
   "metadata": {},
   "outputs": [],
   "source": [
    "def process_csv_files(csv_files, output_dir, batch_size, num_workers=4):\n",
    "  print(f'[INFO] Processing {len(csv_files)} CSV files ...')\n",
    "  # Ensure output directory exists\n",
    "  if not os.path.exists(output_dir):\n",
    "    os.makedirs(output_dir)\n",
    "\n",
    "  # Use ThreadPoolExecutor for concurrent processing with specified number of workers\n",
    "  with ThreadPoolExecutor(max_workers=num_workers) as executor:\n",
    "    futures = []\n",
    "    for csv_file in csv_files:\n",
    "      future = executor.submit(process_csv_file, csv_file, output_dir, batch_size)\n",
    "      futures.append(future)\n",
    "      \n",
    "    # Wait for all tasks to complete\n",
    "    for future in futures:\n",
    "      future.result()\n",
    "  \n",
    "  print(f'[SUCCESS] Done processing.')"
   ]
  },
  {
   "cell_type": "code",
   "execution_count": 30,
   "metadata": {},
   "outputs": [
    {
     "name": "stdout",
     "output_type": "stream",
     "text": [
      "[INFO] Processing 21 CSV files ...\n",
      "[WARNING] Processing smtp22 ...\n",
      "[WARNING] Processing hydra_ftp2 ...\n",
      "[WARNING] Processing vsftpd ...\n",
      "[WARNING] Processing vsftpd2 ...\n",
      "[INFO] Done processing smtp22 ...\n",
      "[WARNING] Processing netbios_ssn2 ...\n",
      "[INFO] Done processing hydra_ftp2 ...\n",
      "[WARNING] Processing blackEnergy ...\n",
      "[INFO] Done processing blackEnergy ...\n",
      "[WARNING] Processing unreallrcd2 ...\n",
      "[INFO] Done processing vsftpd ...\n",
      "[WARNING] Processing smtp ...\n",
      "[INFO] Done processing smtp ...\n",
      "[WARNING] Processing 0day ...\n",
      "[INFO] Done processing vsftpd2 ...\n",
      "[WARNING] Processing netbios_ssn ...\n",
      "[INFO] Done processing netbios_ssn2 ...\n",
      "[WARNING] Processing distcc_exec_backdoor2 ...\n",
      "[INFO] Done processing distcc_exec_backdoor2 ...\n",
      "[WARNING] Processing mirai ...\n",
      "[INFO] Done processing 0day ...\n",
      "[WARNING] Processing hydra_ftp ...\n",
      "[INFO] Done processing hydra_ftp ...\n",
      "[WARNING] Processing hydra_ssh2 ...\n",
      "[INFO] Done processing hydra_ssh2 ...\n",
      "[WARNING] Processing ruby_drb2 ...\n",
      "[INFO] Done processing netbios_ssn ...\n",
      "[WARNING] Processing zeus ...\n",
      "[INFO] Done processing zeus ...\n",
      "[WARNING] Processing distcc_exec_backdoor ...\n",
      "[INFO] Done processing distcc_exec_backdoor ...\n",
      "[WARNING] Processing ruby_drb ...\n",
      "[INFO] Done processing unreallrcd2 ...\n",
      "[WARNING] Processing unreallrcd ...\n",
      "[INFO] Done processing ruby_drb2 ...\n",
      "[WARNING] Processing hydra_ssh ...\n",
      "[INFO] Done processing ruby_drb ...\n",
      "[WARNING] Processing replayAttacks ...\n",
      "[INFO] Done processing hydra_ssh ...\n",
      "[INFO] Done processing replayAttacks ...\n",
      "[INFO] Done processing unreallrcd ...\n",
      "[INFO] Done processing mirai ...\n",
      "[SUCCESS] Done processing.\n"
     ]
    }
   ],
   "source": [
    "output_dir = 'bin_dataset'\n",
    "csv_files = glob('csv_dataset/*.csv')\n",
    "\n",
    "process_csv_files(csv_files, output_dir, batch_size=30, num_workers=4)"
   ]
  }
 ],
 "metadata": {
  "kernelspec": {
   "display_name": ".venv",
   "language": "python",
   "name": "python3"
  },
  "language_info": {
   "codemirror_mode": {
    "name": "ipython",
    "version": 3
   },
   "file_extension": ".py",
   "mimetype": "text/x-python",
   "name": "python",
   "nbconvert_exporter": "python",
   "pygments_lexer": "ipython3",
   "version": "3.10.14"
  }
 },
 "nbformat": 4,
 "nbformat_minor": 2
}
