{
 "cells": [
  {
   "cell_type": "code",
   "execution_count": 17,
   "metadata": {},
   "outputs": [],
   "source": [
    "import os\n",
    "import random\n",
    "import cv2\n",
    "from PIL import Image\n",
    "from imgaug import augmenters as iaa"
   ]
  },
  {
   "cell_type": "code",
   "execution_count": 18,
   "metadata": {},
   "outputs": [],
   "source": [
    "# Define the path to the directory containing class folders\n",
    "data_dir = \"./img_dataset\"\n",
    "new_data_dir = \"./new_img_dataset\"  # New directory to save the resized and augmented images\n",
    "\n",
    "# Define the target number of images per class\n",
    "target_images_per_class = 200\n",
    "\n",
    "# Define data augmentation transformations\n",
    "seq = iaa.Sequential([\n",
    "    iaa.Fliplr(0.5),  # horizontal flips\n",
    "    iaa.Affine(rotate=(-10, 10)),  # rotation\n",
    "    iaa.GaussianBlur(sigma=(0, 1.0)),  # Gaussian blur\n",
    "    iaa.AdditiveGaussianNoise(scale=(0, 0.05*255)),  # add Gaussian noise\n",
    "])"
   ]
  },
  {
   "cell_type": "code",
   "execution_count": 19,
   "metadata": {},
   "outputs": [
    {
     "name": "stdout",
     "output_type": "stream",
     "text": [
      "Class: distcc_exec_backdoor2, Original images: 4, Images needed: 196\n",
      "Class: vsftpd, Original images: 1143, Images needed: 0\n",
      "Class: mirai, Original images: 1140, Images needed: 0\n",
      "Class: netbios_ssn2, Original images: 1137, Images needed: 0\n",
      "Class: hydra_ftp2, Original images: 131, Images needed: 69\n",
      "Class: smtp22, Original images: 31, Images needed: 169\n",
      "Class: replayAttacks, Original images: 975, Images needed: 0\n",
      "Class: vsftpd2, Original images: 200, Images needed: 0\n",
      "Class: distcc_exec_backdoor, Original images: 4, Images needed: 196\n",
      "Class: blackEnergy, Original images: 35, Images needed: 165\n",
      "Class: unreallrcd, Original images: 383, Images needed: 0\n",
      "Class: smtp, Original images: 31, Images needed: 169\n",
      "Class: ruby_drb2, Original images: 379, Images needed: 0\n",
      "Class: zeus, Original images: 67, Images needed: 133\n",
      "Class: hydra_ssh2, Original images: 349, Images needed: 0\n",
      "Class: netbios_ssn, Original images: 286, Images needed: 0\n",
      "Class: ruby_drb, Original images: 200, Images needed: 0\n",
      "Class: 0day, Original images: 200, Images needed: 0\n",
      "Class: unreallrcd2, Original images: 200, Images needed: 0\n",
      "Class: hydra_ssh, Original images: 200, Images needed: 0\n",
      "Class: hydra_ftp, Original images: 131, Images needed: 69\n"
     ]
    }
   ],
   "source": [
    "# Iterate through each class folder\n",
    "for class_folder in os.listdir(data_dir):\n",
    "    class_path = os.path.join(data_dir, class_folder)\n",
    "    if os.path.isdir(class_path):\n",
    "        # Create a corresponding folder in the new dataset directory\n",
    "        new_class_path = os.path.join(new_data_dir, class_folder)\n",
    "        os.makedirs(new_class_path, exist_ok=True)\n",
    "\n",
    "        # List all image files in the class folder\n",
    "        image_files = [f for f in os.listdir(class_path) if f.endswith('.jpg') or f.endswith('.png')]\n",
    "        num_images = len(image_files)\n",
    "\n",
    "        # Calculate the number of additional images needed to reach the target\n",
    "        images_needed = max(0, target_images_per_class - num_images)\n",
    "\n",
    "        print(f\"Class: {class_folder}, Original images: {num_images}, Images needed: {images_needed}\")\n",
    "\n",
    "        # Randomly select the subset of images if there are more than 200\n",
    "        if num_images > target_images_per_class:\n",
    "            selected_images = random.sample(image_files, target_images_per_class)\n",
    "        else:\n",
    "            selected_images = image_files\n",
    "\n",
    "        # Load and resize selected images\n",
    "        for img_file in selected_images:\n",
    "            img = cv2.imread(os.path.join(class_path, img_file))\n",
    "            pil_image = Image.fromarray(img)\n",
    "            resized_image = pil_image.resize((224, 224), Image.BICUBIC)\n",
    "            resized_image.save(os.path.join(new_class_path, img_file))\n",
    "\n",
    "        # Perform data augmentation on existing images if needed\n",
    "        augmented_images = []\n",
    "        for _ in range(images_needed):\n",
    "            random_image = random.choice(selected_images)\n",
    "            img = cv2.imread(os.path.join(class_path, random_image))\n",
    "            augmented_image = seq.augment_image(img)\n",
    "            augmented_images.append(augmented_image)\n",
    "\n",
    "        # Save augmented images\n",
    "        for i, img in enumerate(augmented_images):\n",
    "            pil_image = Image.fromarray(img)\n",
    "            resized_image = pil_image.resize((224, 224), Image.BICUBIC)\n",
    "            resized_image.save(os.path.join(new_class_path, f\"augmented_{i}.jpg\"))\n"
   ]
  }
 ],
 "metadata": {
  "kernelspec": {
   "display_name": ".venv",
   "language": "python",
   "name": "python3"
  },
  "language_info": {
   "codemirror_mode": {
    "name": "ipython",
    "version": 3
   },
   "file_extension": ".py",
   "mimetype": "text/x-python",
   "name": "python",
   "nbconvert_exporter": "python",
   "pygments_lexer": "ipython3",
   "version": "3.9.18"
  }
 },
 "nbformat": 4,
 "nbformat_minor": 2
}
